{
 "cells": [
  {
   "cell_type": "markdown",
   "metadata": {
    "collapsed": true,
    "deletable": true,
    "editable": true
   },
   "source": [
    "# Image Classification\n",
    "In this project, you'll classify images from the [CIFAR-10 dataset](https://www.cs.toronto.edu/~kriz/cifar.html).  The dataset consists of airplanes, dogs, cats, and other objects. You'll preprocess the images, then train a convolutional neural network on all the samples. The images need to be normalized and the labels need to be one-hot encoded.  You'll get to apply what you learned and build a convolutional, max pooling, dropout, and fully connected layers.  At the end, you'll get to see your neural network's predictions on the sample images.\n",
    "## Get the Data\n",
    "Run the following cell to download the [CIFAR-10 dataset for python](https://www.cs.toronto.edu/~kriz/cifar-10-python.tar.gz)."
   ]
  },
  {
   "cell_type": "code",
   "execution_count": 1,
   "metadata": {
    "collapsed": false,
    "deletable": true,
    "editable": true
   },
   "outputs": [
    {
     "name": "stderr",
     "output_type": "stream",
     "text": [
      "CIFAR-10 Dataset: 171MB [11:47, 338KB/s]                               \n"
     ]
    },
    {
     "name": "stdout",
     "output_type": "stream",
     "text": [
      "All files found!\n"
     ]
    }
   ],
   "source": [
    "\"\"\"\n",
    "DON'T MODIFY ANYTHING IN THIS CELL THAT IS BELOW THIS LINE\n",
    "\"\"\"\n",
    "from urllib.request import urlretrieve\n",
    "from os.path import isfile, isdir\n",
    "from tqdm import tqdm\n",
    "import problem_unittests as tests\n",
    "import tarfile\n",
    "\n",
    "cifar10_dataset_folder_path = 'cifar-10-batches-py'\n",
    "\n",
    "class DLProgress(tqdm):\n",
    "    last_block = 0\n",
    "\n",
    "    def hook(self, block_num=1, block_size=1, total_size=None):\n",
    "        self.total = total_size\n",
    "        self.update((block_num - self.last_block) * block_size)\n",
    "        self.last_block = block_num\n",
    "\n",
    "if not isfile('cifar-10-python.tar.gz'):\n",
    "    with DLProgress(unit='B', unit_scale=True, miniters=1, desc='CIFAR-10 Dataset') as pbar:\n",
    "        urlretrieve(\n",
    "            'https://www.cs.toronto.edu/~kriz/cifar-10-python.tar.gz',\n",
    "            'cifar-10-python.tar.gz',\n",
    "            pbar.hook)\n",
    "\n",
    "if not isdir(cifar10_dataset_folder_path):\n",
    "    with tarfile.open('cifar-10-python.tar.gz') as tar:\n",
    "        tar.extractall()\n",
    "        tar.close()\n",
    "\n",
    "\n",
    "tests.test_folder_path(cifar10_dataset_folder_path)"
   ]
  },
  {
   "cell_type": "markdown",
   "metadata": {
    "deletable": true,
    "editable": true
   },
   "source": [
    "## Explore the Data\n",
    "The dataset is broken into batches to prevent your machine from running out of memory.  The CIFAR-10 dataset consists of 5 batches, named `data_batch_1`, `data_batch_2`, etc.. Each batch contains the labels and images that are one of the following:\n",
    "* airplane\n",
    "* automobile\n",
    "* bird\n",
    "* cat\n",
    "* deer\n",
    "* dog\n",
    "* frog\n",
    "* horse\n",
    "* ship\n",
    "* truck\n",
    "\n",
    "Understanding a dataset is part of making predictions on the data.  Play around with the code cell below by changing the `batch_id` and `sample_id`. The `batch_id` is the id for a batch (1-5). The `sample_id` is the id for a image and label pair in the batch.\n",
    "\n",
    "Ask yourself \"What are all possible labels?\", \"What is the range of values for the image data?\", \"Are the labels in order or random?\".  Answers to questions like these will help you preprocess the data and end up with better predictions."
   ]
  },
  {
   "cell_type": "code",
   "execution_count": 2,
   "metadata": {
    "collapsed": false,
    "deletable": true,
    "editable": true
   },
   "outputs": [
    {
     "name": "stdout",
     "output_type": "stream",
     "text": [
      "\n",
      "Stats of batch 2:\n",
      "Samples: 10000\n",
      "Label Counts: {0: 984, 1: 1007, 2: 1010, 3: 995, 4: 1010, 5: 988, 6: 1008, 7: 1026, 8: 987, 9: 985}\n",
      "First 20 Labels: [1, 6, 6, 8, 8, 3, 4, 6, 0, 6, 0, 3, 6, 6, 5, 4, 8, 3, 2, 6]\n",
      "\n",
      "Example of Image 1:\n",
      "Image - Min Value: 2 Max Value: 247\n",
      "Image - Shape: (32, 32, 3)\n",
      "Label - Label Id: 6 Name: frog\n"
     ]
    },
    {
     "data": {
      "image/png": "[encoded data removed]",
      "text/plain": [
       "<matplotlib.figure.Figure at 0x7f7f8839b518>"
      ]
     },
     "metadata": {
      "image/png": {
       "height": 250,
       "width": 253
      }
     },
     "output_type": "display_data"
    }
   ],
   "source": [
    "%matplotlib inline\n",
    "%config InlineBackend.figure_format = 'retina'\n",
    "\n",
    "import helper\n",
    "import numpy as np\n",
    "\n",
    "# Explore the dataset\n",
    "batch_id = 2\n",
    "sample_id = 1\n",
    "helper.display_stats(cifar10_dataset_folder_path, batch_id, sample_id)"
   ]
  },
  {
   "cell_type": "markdown",
   "metadata": {
    "deletable": true,
    "editable": true
   },
   "source": [
    "## Implement Preprocess Functions\n",
    "### Normalize\n",
    "In the cell below, implement the `normalize` function to take in image data, `x`, and return it as a normalized Numpy array. The values should be in the range of 0 to 1, inclusive.  The return object should be the same shape as `x`."
   ]
  },
  {
   "cell_type": "code",
   "execution_count": 3,
   "metadata": {
    "collapsed": false,
    "deletable": true,
    "editable": true
   },
   "outputs": [
    {
     "name": "stdout",
     "output_type": "stream",
     "text": [
      "Tests Passed\n"
     ]
    }
   ],
   "source": [
    "def normalize(x):\n",
    "    \"\"\"\n",
    "    Normalize a list of sample image data in the range of 0 to 1\n",
    "    : x: List of image data.  The image shape is (32, 32, 3)\n",
    "    : return: Numpy array of normalize data\n",
    "    \"\"\"\n",
    "    # TODO: Implement Function\n",
    "    return x/255\n",
    "\n",
    "\n",
    "\"\"\"\n",
    "DON'T MODIFY ANYTHING IN THIS CELL THAT IS BELOW THIS LINE\n",
    "\"\"\"\n",
    "tests.test_normalize(normalize)"
   ]
  },
  {
   "cell_type": "markdown",
   "metadata": {
    "deletable": true,
    "editable": true
   },
   "source": [
    "### One-hot encode\n",
    "Just like the previous code cell, you'll be implementing a function for preprocessing.  This time, you'll implement the `one_hot_encode` function. The input, `x`, are a list of labels.  Implement the function to return the list of labels as One-Hot encoded Numpy array.  The possible values for labels are 0 to 9. The one-hot encoding function should return the same encoding for each value between each call to `one_hot_encode`.  Make sure to save the map of encodings outside the function.\n",
    "\n",
    "Hint: Don't reinvent the wheel."
   ]
  },
  {
   "cell_type": "code",
   "execution_count": 4,
   "metadata": {
    "collapsed": false,
    "deletable": true,
    "editable": true
   },
   "outputs": [
    {
     "name": "stdout",
     "output_type": "stream",
     "text": [
      "Tests Passed\n"
     ]
    }
   ],
   "source": [
    "label_encs = np.eye(10)\n",
    "\n",
    "def one_hot_encode(x):\n",
    "    \"\"\"\n",
    "    One hot encode a list of sample labels. Return a one-hot encoded vector for each label.\n",
    "    : x: List of sample Labels\n",
    "    : return: Numpy array of one-hot encoded labels\n",
    "    \"\"\"\n",
    "    # TODO: Implement Function\n",
    "    onehot_labels = np.empty((len(x), 10))\n",
    "    for row in range(len(x)):\n",
    "        onehot_labels[row] = label_encs[x[row]]\n",
    "    return onehot_labels\n",
    "\n",
    "\n",
    "\"\"\"\n",
    "DON'T MODIFY ANYTHING IN THIS CELL THAT IS BELOW THIS LINE\n",
    "\"\"\"\n",
    "tests.test_one_hot_encode(one_hot_encode)"
   ]
  },
  {
   "cell_type": "markdown",
   "metadata": {
    "deletable": true,
    "editable": true
   },
   "source": [
    "### Randomize Data\n",
    "As you saw from exploring the data above, the order of the samples are randomized.  It doesn't hurt to randomize it again, but you don't need to for this dataset."
   ]
  },
  {
   "cell_type": "markdown",
   "metadata": {
    "deletable": true,
    "editable": true
   },
   "source": [
    "## Preprocess all the data and save it\n",
    "Running the code cell below will preprocess all the CIFAR-10 data and save it to file. The code below also uses 10% of the training data for validation."
   ]
  },
  {
   "cell_type": "code",
   "execution_count": 5,
   "metadata": {
    "collapsed": false,
    "deletable": true,
    "editable": true
   },
   "outputs": [],
   "source": [
    "\"\"\"\n",
    "DON'T MODIFY ANYTHING IN THIS CELL\n",
    "\"\"\"\n",
    "# Preprocess Training, Validation, and Testing Data\n",
    "helper.preprocess_and_save_data(cifar10_dataset_folder_path, normalize, one_hot_encode)"
   ]
  },
  {
   "cell_type": "markdown",
   "metadata": {
    "deletable": true,
    "editable": true
   },
   "source": [
    "# Check Point\n",
    "This is your first checkpoint.  If you ever decide to come back to this notebook or have to restart the notebook, you can start from here.  The preprocessed data has been saved to disk."
   ]
  },
  {
   "cell_type": "code",
   "execution_count": 6,
   "metadata": {
    "collapsed": true,
    "deletable": true,
    "editable": true
   },
   "outputs": [],
   "source": [
    "\"\"\"\n",
    "DON'T MODIFY ANYTHING IN THIS CELL\n",
    "\"\"\"\n",
    "import pickle\n",
    "import problem_unittests as tests\n",
    "import helper\n",
    "\n",
    "# Load the Preprocessed Validation data\n",
    "valid_features, valid_labels = pickle.load(open('preprocess_validation.p', mode='rb'))"
   ]
  },
  {
   "cell_type": "markdown",
   "metadata": {
    "deletable": true,
    "editable": true
   },
   "source": [
    "## Build the network\n",
    "For the neural network, you'll build each layer into a function.  Most of the code you've seen has been outside of functions. To test your code more thoroughly, we require that you put each layer in a function.  This allows us to give you better feedback and test for simple mistakes using our unittests before you submit your project.\n",
    "\n",
    "If you're finding it hard to dedicate enough time for this course a week, we've provided a small shortcut to this part of the project. In the next couple of problems, you'll have the option to use [TensorFlow Layers](https://www.tensorflow.org/api_docs/python/tf/layers) or [TensorFlow Layers (contrib)](https://www.tensorflow.org/api_guides/python/contrib.layers) to build each layer, except \"Convolutional & Max Pooling\" layer.  TF Layers is similar to Keras's and TFLearn's abstraction to layers, so it's easy to pickup.\n",
    "\n",
    "If you would like to get the most of this course, try to solve all the problems without TF Layers.  Let's begin!\n",
    "### Input\n",
    "The neural network needs to read the image data, one-hot encoded labels, and dropout keep probability. Implement the following functions\n",
    "* Implement `neural_net_image_input`\n",
    " * Return a [TF Placeholder](https://www.tensorflow.org/api_docs/python/tf/placeholder)\n",
    " * Set the shape using `image_shape` with batch size set to `None`.\n",
    " * Name the TensorFlow placeholder \"x\" using the TensorFlow `name` parameter in the [TF Placeholder](https://www.tensorflow.org/api_docs/python/tf/placeholder).\n",
    "* Implement `neural_net_label_input`\n",
    " * Return a [TF Placeholder](https://www.tensorflow.org/api_docs/python/tf/placeholder)\n",
    " * Set the shape using `n_classes` with batch size set to `None`.\n",
    " * Name the TensorFlow placeholder \"y\" using the TensorFlow `name` parameter in the [TF Placeholder](https://www.tensorflow.org/api_docs/python/tf/placeholder).\n",
    "* Implement `neural_net_keep_prob_input`\n",
    " * Return a [TF Placeholder](https://www.tensorflow.org/api_docs/python/tf/placeholder) for dropout keep probability.\n",
    " * Name the TensorFlow placeholder \"keep_prob\" using the TensorFlow `name` parameter in the [TF Placeholder](https://www.tensorflow.org/api_docs/python/tf/placeholder).\n",
    "\n",
    "These names will be used at the end of the project to load your saved model.\n",
    "\n",
    "Note: `None` for shapes in TensorFlow allow for a dynamic size."
   ]
  },
  {
   "cell_type": "code",
   "execution_count": 7,
   "metadata": {
    "collapsed": false,
    "deletable": true,
    "editable": true
   },
   "outputs": [
    {
     "name": "stdout",
     "output_type": "stream",
     "text": [
      "Image Input Tests Passed.\n",
      "Label Input Tests Passed.\n",
      "Keep Prob Tests Passed.\n"
     ]
    }
   ],
   "source": [
    "import tensorflow as tf\n",
    "\n",
    "def neural_net_image_input(image_shape):\n",
    "    \"\"\"\n",
    "    Return a Tensor for a bach of image input\n",
    "    : image_shape: Shape of the images\n",
    "    : return: Tensor for image input.\n",
    "    \"\"\"\n",
    "    # TODO: Implement Function\n",
    "    return tf.placeholder(tf.float32, shape=[None, image_shape[0], image_shape[1], image_shape[2]], name='x')\n",
    "\n",
    "\n",
    "def neural_net_label_input(n_classes):\n",
    "    \"\"\"\n",
    "    Return a Tensor for a batch of label input\n",
    "    : n_classes: Number of classes\n",
    "    : return: Tensor for label input.\n",
    "    \"\"\"\n",
    "    # TODO: Implement Function\n",
    "    return tf.placeholder(tf.float32 ,name='y', shape=[None, n_classes])\n",
    "\n",
    "\n",
    "def neural_net_keep_prob_input():\n",
    "    \"\"\"\n",
    "    Return a Tensor for keep probability\n",
    "    : return: Tensor for keep probability.\n",
    "    \"\"\"\n",
    "    # TODO: Implement Function\n",
    "    return tf.placeholder(tf.float32, name='keep_prob')\n",
    "\n",
    "\n",
    "\"\"\"\n",
    "DON'T MODIFY ANYTHING IN THIS CELL THAT IS BELOW THIS LINE\n",
    "\"\"\"\n",
    "tf.reset_default_graph()\n",
    "tests.test_nn_image_inputs(neural_net_image_input)\n",
    "tests.test_nn_label_inputs(neural_net_label_input)\n",
    "tests.test_nn_keep_prob_inputs(neural_net_keep_prob_input)"
   ]
  },
  {
   "cell_type": "markdown",
   "metadata": {
    "deletable": true,
    "editable": true
   },
   "source": [
    "### Convolution and Max Pooling Layer\n",
    "Convolution layers have a lot of success with images. For this code cell, you should implement the function `conv2d_maxpool` to apply convolution then max pooling:\n",
    "* Create the weight and bias using `conv_ksize`, `conv_num_outputs` and the shape of `x_tensor`.\n",
    "* Apply a convolution to `x_tensor` using weight and `conv_strides`.\n",
    " * We recommend you use same padding, but you're welcome to use any padding.\n",
    "* Add bias\n",
    "* Add a nonlinear activation to the convolution.\n",
    "* Apply Max Pooling using `pool_ksize` and `pool_strides`.\n",
    " * We recommend you use same padding, but you're welcome to use any padding.\n",
    "\n",
    "Note: You **can't** use [TensorFlow Layers](https://www.tensorflow.org/api_docs/python/tf/layers) or [TensorFlow Layers (contrib)](https://www.tensorflow.org/api_guides/python/contrib.layers) for this layer.  You're free to use any TensorFlow package for all the other layers."
   ]
  },
  {
   "cell_type": "code",
   "execution_count": 8,
   "metadata": {
    "collapsed": false,
    "deletable": true,
    "editable": true
   },
   "outputs": [
    {
     "name": "stdout",
     "output_type": "stream",
     "text": [
      "Tests Passed\n"
     ]
    }
   ],
   "source": [
    "def conv2d_maxpool(x_tensor, conv_num_outputs, conv_ksize, conv_strides, pool_ksize, pool_strides):\n",
    "    \"\"\"\n",
    "    Apply convolution then max pooling to x_tensor\n",
    "    :param x_tensor: TensorFlow Tensor\n",
    "    :param conv_num_outputs: Number of outputs for the convolutional layer\n",
    "    :param conv_strides: Stride 2-D Tuple for convolution\n",
    "    :param pool_ksize: kernal size 2-D Tuple for pool\n",
    "    :param pool_strides: Stride 2-D Tuple for pool\n",
    "    : return: A tensor that represents convolution and max pooling of x_tensor\n",
    "    \"\"\"\n",
    "    # TODO: Implement Function\n",
    "    input_channels = x_tensor.get_shape().as_list()[3] # Number of input image channels\n",
    "    filt = [*conv_ksize, input_channels, conv_num_outputs] # Filter shape\n",
    "    strides = [1, *conv_strides, 1] # Convolution strides\n",
    "    pool_tensor = [1, *pool_ksize, 1] # Pooloing filter tensor shape\n",
    "    pool_strides = [1, *pool_strides, 1] # Pooling strides tensor shape\n",
    "    # Placeholder for weights\n",
    "    weights = tf.Variable(tf.truncated_normal(filt, stddev=0.1))\n",
    "    # Placeholder for biases\n",
    "    bias = tf.Variable(tf.zeros(conv_num_outputs))\n",
    "    conv_layer = tf.nn.conv2d(x_tensor, weights, strides, padding='SAME')\n",
    "    conv_layer = tf.nn.bias_add(conv_layer, bias)\n",
    "    conv_layer = tf.nn.relu(conv_layer)\n",
    "    conv_layer = tf.nn.max_pool(conv_layer, pool_tensor, pool_strides, padding='SAME')\n",
    "    return conv_layer \n",
    "\n",
    "\n",
    "\"\"\"\n",
    "DON'T MODIFY ANYTHING IN THIS CELL THAT IS BELOW THIS LINE\n",
    "\"\"\"\n",
    "tests.test_con_pool(conv2d_maxpool)"
   ]
  },
  {
   "cell_type": "markdown",
   "metadata": {
    "deletable": true,
    "editable": true
   },
   "source": [
    "### Flatten Layer\n",
    "Implement the `flatten` function to change the dimension of `x_tensor` from a 4-D tensor to a 2-D tensor.  The output should be the shape (*Batch Size*, *Flattened Image Size*). You can use [TensorFlow Layers](https://www.tensorflow.org/api_docs/python/tf/layers) or [TensorFlow Layers (contrib)](https://www.tensorflow.org/api_guides/python/contrib.layers) for this layer."
   ]
  },
  {
   "cell_type": "code",
   "execution_count": 9,
   "metadata": {
    "collapsed": false,
    "deletable": true,
    "editable": true
   },
   "outputs": [
    {
     "name": "stdout",
     "output_type": "stream",
     "text": [
      "Tests Passed\n"
     ]
    }
   ],
   "source": [
    "def flatten(x_tensor):\n",
    "    \"\"\"\n",
    "    Flatten x_tensor to (Batch Size, Flattened Image Size)\n",
    "    : x_tensor: A tensor of size (Batch Size, ...), where ... are the image dimensions.\n",
    "    : return: A tensor of size (Batch Size, Flattened Image Size).\n",
    "    \"\"\"\n",
    "    # TODO: Implement Function\n",
    "    tensor_shape = x_tensor.get_shape().as_list()\n",
    "    flattened_size = np.prod(tensor_shape[1:])\n",
    "    return tf.reshape(x_tensor, shape=[-1, flattened_size])\n",
    "\n",
    "\n",
    "\"\"\"\n",
    "DON'T MODIFY ANYTHING IN THIS CELL THAT IS BELOW THIS LINE\n",
    "\"\"\"\n",
    "tests.test_flatten(flatten)"
   ]
  },
  {
   "cell_type": "markdown",
   "metadata": {
    "deletable": true,
    "editable": true
   },
   "source": [
    "### Fully-Connected Layer\n",
    "Implement the `fully_conn` function to apply a fully connected layer to `x_tensor` with the shape (*Batch Size*, *num_outputs*). You can use [TensorFlow Layers](https://www.tensorflow.org/api_docs/python/tf/layers) or [TensorFlow Layers (contrib)](https://www.tensorflow.org/api_guides/python/contrib.layers) for this layer."
   ]
  },
  {
   "cell_type": "code",
   "execution_count": 10,
   "metadata": {
    "collapsed": false,
    "deletable": true,
    "editable": true
   },
   "outputs": [
    {
     "name": "stdout",
     "output_type": "stream",
     "text": [
      "Tests Passed\n"
     ]
    }
   ],
   "source": [
    "def fully_conn(x_tensor, num_outputs):\n",
    "    \"\"\"\n",
    "    Apply a fully connected layer to x_tensor using weight and bias\n",
    "    : x_tensor: A 2-D tensor where the first dimension is batch size.\n",
    "    : num_outputs: The number of output that the new tensor should be.\n",
    "    : return: A 2-D tensor where the second dimension is num_outputs.\n",
    "    \"\"\"\n",
    "    # TODO: Implement Function\n",
    "    input_shape = x_tensor.get_shape().as_list()\n",
    "    weights = tf.Variable(tf.truncated_normal([input_shape[1], num_outputs], stddev=0.1))\n",
    "    biases = tf.Variable(tf.zeros(num_outputs))\n",
    "    return tf.nn.relu(tf.add(tf.matmul(x_tensor, weights), biases))\n",
    "\n",
    "\n",
    "\"\"\"\n",
    "DON'T MODIFY ANYTHING IN THIS CELL THAT IS BELOW THIS LINE\n",
    "\"\"\"\n",
    "tests.test_fully_conn(fully_conn)"
   ]
  },
  {
   "cell_type": "markdown",
   "metadata": {
    "deletable": true,
    "editable": true
   },
   "source": [
    "### Output Layer\n",
    "Implement the `output` function to apply a fully connected layer to `x_tensor` with the shape (*Batch Size*, *num_outputs*). You can use [TensorFlow Layers](https://www.tensorflow.org/api_docs/python/tf/layers) or [TensorFlow Layers (contrib)](https://www.tensorflow.org/api_guides/python/contrib.layers) for this layer.\n",
    "\n",
    "Note: Activation, softmax, or cross entropy shouldn't be applied to this."
   ]
  },
  {
   "cell_type": "code",
   "execution_count": 11,
   "metadata": {
    "collapsed": false,
    "deletable": true,
    "editable": true
   },
   "outputs": [
    {
     "name": "stdout",
     "output_type": "stream",
     "text": [
      "Tests Passed\n"
     ]
    }
   ],
   "source": [
    "def output(x_tensor, num_outputs):\n",
    "    \"\"\"\n",
    "    Apply a output layer to x_tensor using weight and bias\n",
    "    : x_tensor: A 2-D tensor where the first dimension is batch size.\n",
    "    : num_outputs: The number of output that the new tensor should be.\n",
    "    : return: A 2-D tensor where the second dimension is num_outputs.\n",
    "    \"\"\"\n",
    "    # TODO: Implement Function\n",
    "    input_shape = x_tensor.get_shape().as_list()\n",
    "    weights = tf.Variable(tf.truncated_normal([input_shape[1], num_outputs], stddev=0.1))\n",
    "    biases = tf.Variable(tf.zeros(num_outputs))\n",
    "    return tf.add(tf.matmul(x_tensor, weights), biases)\n",
    "\n",
    "\n",
    "\"\"\"\n",
    "DON'T MODIFY ANYTHING IN THIS CELL THAT IS BELOW THIS LINE\n",
    "\"\"\"\n",
    "tests.test_output(output)"
   ]
  },
  {
   "cell_type": "markdown",
   "metadata": {
    "deletable": true,
    "editable": true
   },
   "source": [
    "### Create Convolutional Model\n",
    "Implement the function `conv_net` to create a convolutional neural network model. The function takes in a batch of images, `x`, and outputs logits.  Use the layers you created above to create this model:\n",
    "\n",
    "* Apply 1, 2, or 3 Convolution and Max Pool layers\n",
    "* Apply a Flatten Layer\n",
    "* Apply 1, 2, or 3 Fully Connected Layers\n",
    "* Apply an Output Layer\n",
    "* Return the output\n",
    "* Apply [TensorFlow's Dropout](https://www.tensorflow.org/api_docs/python/tf/nn/dropout) to one or more layers in the model using `keep_prob`. "
   ]
  },
  {
   "cell_type": "code",
   "execution_count": 20,
   "metadata": {
    "collapsed": false,
    "deletable": true,
    "editable": true
   },
   "outputs": [
    {
     "name": "stdout",
     "output_type": "stream",
     "text": [
      "Neural Network Built!\n"
     ]
    }
   ],
   "source": [
    "def conv_net(x, keep_prob):\n",
    "    \"\"\"\n",
    "    Create a convolutional neural network model\n",
    "    : x: Placeholder tensor that holds image data.\n",
    "    : keep_prob: Placeholder tensor that hold dropout keep probability.\n",
    "    : return: Tensor that represents logits\n",
    "    \"\"\"\n",
    "    # TODO: Apply 1, 2, or 3 Convolution and Max Pool layers\n",
    "    #    Play around with different number of outputs, kernel size and stride\n",
    "    # Function Definition from Above:\n",
    "    #    conv2d_maxpool(x_tensor, conv_num_outputs, conv_ksize, conv_strides, pool_ksize, pool_strides)\n",
    "    \n",
    "    conv = conv2d_maxpool(x, 25, (5,5), (1,1), (2,2), (2,2))\n",
    "    conv = conv2d_maxpool(conv, 50, (5,5), (1,1), (2,2), (2,2))\n",
    "    conv = tf.nn.dropout(conv, keep_prob=keep_prob)\n",
    "    conv = conv2d_maxpool(conv, 100, (5,5), (1,1), (2,2), (2,2))\n",
    "    \n",
    "    # TODO: Apply a Flatten Layer\n",
    "    # Function Definition from Above:\n",
    "    #   flatten(x_tensor)\n",
    "\n",
    "    flat = flatten(conv)\n",
    "    \n",
    "    # TODO: Apply 1, 2, or 3 Fully Connected Layers\n",
    "    #    Play around with different number of outputs\n",
    "    # Function Definition from Above:\n",
    "    #   fully_conn(x_tensor, num_outputs)\n",
    "    \n",
    "    connected = fully_conn(flat, 512)\n",
    "    connected = tf.nn.dropout(connected, keep_prob=keep_prob)\n",
    "    connected = fully_conn(flat, 128)\n",
    "    \n",
    "    # TODO: Apply an Output Layer\n",
    "    #    Set this to the number of classes\n",
    "    # Function Definition from Above:\n",
    "    #   output(x_tensor, num_outputs)\n",
    "    \n",
    "    out = output(connected, 10)\n",
    "    \n",
    "    # TODO: return output\n",
    "    return out\n",
    "\n",
    "\n",
    "\"\"\"\n",
    "DON'T MODIFY ANYTHING IN THIS CELL THAT IS BELOW THIS LINE\n",
    "\"\"\"\n",
    "\n",
    "##############################\n",
    "## Build the Neural Network ##\n",
    "##############################\n",
    "\n",
    "# Remove previous weights, bias, inputs, etc..\n",
    "tf.reset_default_graph()\n",
    "\n",
    "# Inputs\n",
    "x = neural_net_image_input((32, 32, 3))\n",
    "y = neural_net_label_input(10)\n",
    "keep_prob = neural_net_keep_prob_input()\n",
    "\n",
    "# Model\n",
    "logits = conv_net(x, keep_prob)\n",
    "\n",
    "# Name logits Tensor, so that is can be loaded from disk after training\n",
    "logits = tf.identity(logits, name='logits')\n",
    "\n",
    "# Loss and Optimizer\n",
    "cost = tf.reduce_mean(tf.nn.softmax_cross_entropy_with_logits(logits=logits, labels=y))\n",
    "optimizer = tf.train.AdamOptimizer().minimize(cost)\n",
    "\n",
    "# Accuracy\n",
    "correct_pred = tf.equal(tf.argmax(logits, 1), tf.argmax(y, 1))\n",
    "accuracy = tf.reduce_mean(tf.cast(correct_pred, tf.float32), name='accuracy')\n",
    "\n",
    "tests.test_conv_net(conv_net)"
   ]
  },
  {
   "cell_type": "markdown",
   "metadata": {
    "deletable": true,
    "editable": true
   },
   "source": [
    "## Train the Neural Network\n",
    "### Single Optimization\n",
    "Implement the function `train_neural_network` to do a single optimization.  The optimization should use `optimizer` to optimize in `session` with a `feed_dict` of the following:\n",
    "* `x` for image input\n",
    "* `y` for labels\n",
    "* `keep_prob` for keep probability for dropout\n",
    "\n",
    "This function will be called for each batch, so `tf.global_variables_initializer()` has already been called.\n",
    "\n",
    "Note: Nothing needs to be returned. This function is only optimizing the neural network."
   ]
  },
  {
   "cell_type": "code",
   "execution_count": 21,
   "metadata": {
    "collapsed": false,
    "deletable": true,
    "editable": true
   },
   "outputs": [
    {
     "name": "stdout",
     "output_type": "stream",
     "text": [
      "Tests Passed\n"
     ]
    }
   ],
   "source": [
    "def train_neural_network(session, optimizer, keep_probability, feature_batch, label_batch):\n",
    "    \"\"\"\n",
    "    Optimize the session on a batch of images and labels\n",
    "    : session: Current TensorFlow session\n",
    "    : optimizer: TensorFlow optimizer function\n",
    "    : keep_probability: keep probability\n",
    "    : feature_batch: Batch of Numpy image data\n",
    "    : label_batch: Batch of Numpy label data\n",
    "    \"\"\"\n",
    "    # TODO: Implement Function\n",
    "    feed_dict = {\n",
    "        x: feature_batch,\n",
    "        y: label_batch,\n",
    "        keep_prob: keep_probability\n",
    "    }\n",
    "    session.run(optimizer, feed_dict=feed_dict)\n",
    "\n",
    "\n",
    "\"\"\"\n",
    "DON'T MODIFY ANYTHING IN THIS CELL THAT IS BELOW THIS LINE\n",
    "\"\"\"\n",
    "tests.test_train_nn(train_neural_network)"
   ]
  },
  {
   "cell_type": "markdown",
   "metadata": {
    "deletable": true,
    "editable": true
   },
   "source": [
    "### Show Stats\n",
    "Implement the function `print_stats` to print loss and validation accuracy.  Use the global variables `valid_features` and `valid_labels` to calculate validation accuracy.  Use a keep probability of `1.0` to calculate the loss and validation accuracy."
   ]
  },
  {
   "cell_type": "code",
   "execution_count": 22,
   "metadata": {
    "collapsed": false,
    "deletable": true,
    "editable": true
   },
   "outputs": [],
   "source": [
    "def print_stats(session, feature_batch, label_batch, cost, accuracy):\n",
    "    \"\"\"\n",
    "    Print information about loss and validation accuracy\n",
    "    : session: Current TensorFlow session\n",
    "    : feature_batch: Batch of Numpy image data\n",
    "    : label_batch: Batch of Numpy label data\n",
    "    : cost: TensorFlow cost function\n",
    "    : accuracy: TensorFlow accuracy function\n",
    "    \"\"\"\n",
    "    # TODO: Implement Function\n",
    "    val_loss = session.run(cost, feed_dict={\n",
    "        x: feature_batch, \n",
    "        y: label_batch,\n",
    "        keep_prob: 1.0})\n",
    "    val_accuracy = session.run(accuracy, feed_dict={\n",
    "        x: valid_features,\n",
    "        y: valid_labels,\n",
    "        keep_prob: 1.0\n",
    "    })\n",
    "    print(\"Validation loss is: \", val_loss)\n",
    "    print(\"Validation accuracy is: \", val_accuracy)"
   ]
  },
  {
   "cell_type": "markdown",
   "metadata": {
    "deletable": true,
    "editable": true
   },
   "source": [
    "### Hyperparameters\n",
    "Tune the following parameters:\n",
    "* Set `epochs` to the number of iterations until the network stops learning or start overfitting\n",
    "* Set `batch_size` to the highest number that your machine has memory for.  Most people set them to common sizes of memory:\n",
    " * 64\n",
    " * 128\n",
    " * 256\n",
    " * ...\n",
    "* Set `keep_probability` to the probability of keeping a node using dropout"
   ]
  },
  {
   "cell_type": "code",
   "execution_count": 25,
   "metadata": {
    "collapsed": true,
    "deletable": true,
    "editable": true
   },
   "outputs": [],
   "source": [
    "# TODO: Tune Parameters\n",
    "epochs = 50\n",
    "batch_size = 256\n",
    "keep_probability = 0.5"
   ]
  },
  {
   "cell_type": "markdown",
   "metadata": {
    "deletable": true,
    "editable": true
   },
   "source": [
    "### Train on a Single CIFAR-10 Batch\n",
    "Instead of training the neural network on all the CIFAR-10 batches of data, let's use a single batch. This should save time while you iterate on the model to get a better accuracy.  Once the final validation accuracy is 50% or greater, run the model on all the data in the next section."
   ]
  },
  {
   "cell_type": "code",
   "execution_count": 24,
   "metadata": {
    "collapsed": false,
    "deletable": true,
    "editable": true
   },
   "outputs": [
    {
     "name": "stdout",
     "output_type": "stream",
     "text": [
      "Checking the Training on a Single Batch...\n",
      "Epoch  1, CIFAR-10 Batch 1:  Validation loss is:  2.23945\n",
      "Validation accuracy is:  0.1656\n",
      "Epoch  2, CIFAR-10 Batch 1:  Validation loss is:  2.10166\n",
      "Validation accuracy is:  0.2798\n",
      "Epoch  3, CIFAR-10 Batch 1:  Validation loss is:  1.82668\n",
      "Validation accuracy is:  0.3754\n",
      "Epoch  4, CIFAR-10 Batch 1:  Validation loss is:  1.74254\n",
      "Validation accuracy is:  0.397\n",
      "Epoch  5, CIFAR-10 Batch 1:  Validation loss is:  1.66757\n",
      "Validation accuracy is:  0.4284\n",
      "Epoch  6, CIFAR-10 Batch 1:  Validation loss is:  1.595\n",
      "Validation accuracy is:  0.4462\n",
      "Epoch  7, CIFAR-10 Batch 1:  Validation loss is:  1.49022\n",
      "Validation accuracy is:  0.4496\n",
      "Epoch  8, CIFAR-10 Batch 1:  Validation loss is:  1.42718\n",
      "Validation accuracy is:  0.4608\n",
      "Epoch  9, CIFAR-10 Batch 1:  Validation loss is:  1.3409\n",
      "Validation accuracy is:  0.4898\n",
      "Epoch 10, CIFAR-10 Batch 1:  Validation loss is:  1.2565\n",
      "Validation accuracy is:  0.4934\n"
     ]
    }
   ],
   "source": [
    "\"\"\"\n",
    "DON'T MODIFY ANYTHING IN THIS CELL\n",
    "\"\"\"\n",
    "print('Checking the Training on a Single Batch...')\n",
    "with tf.Session() as sess:\n",
    "    # Initializing the variables\n",
    "    sess.run(tf.global_variables_initializer())\n",
    "    \n",
    "    # Training cycle\n",
    "    for epoch in range(epochs):\n",
    "        batch_i = 1\n",
    "        for batch_features, batch_labels in helper.load_preprocess_training_batch(batch_i, batch_size):\n",
    "            train_neural_network(sess, optimizer, keep_probability, batch_features, batch_labels)\n",
    "        print('Epoch {:>2}, CIFAR-10 Batch {}:  '.format(epoch + 1, batch_i), end='')\n",
    "        print_stats(sess, batch_features, batch_labels, cost, accuracy)"
   ]
  },
  {
   "cell_type": "markdown",
   "metadata": {
    "deletable": true,
    "editable": true
   },
   "source": [
    "### Fully Train the Model\n",
    "Now that you got a good accuracy with a single CIFAR-10 batch, try it with all five batches."
   ]
  },
  {
   "cell_type": "code",
   "execution_count": 26,
   "metadata": {
    "collapsed": false,
    "deletable": true,
    "editable": true
   },
   "outputs": [
    {
     "name": "stdout",
     "output_type": "stream",
     "text": [
      "Training...\n",
      "Epoch  1, CIFAR-10 Batch 1:  Validation loss is:  2.22798\n",
      "Validation accuracy is:  0.1598\n",
      "Epoch  1, CIFAR-10 Batch 2:  Validation loss is:  2.06599\n",
      "Validation accuracy is:  0.307\n",
      "Epoch  1, CIFAR-10 Batch 3:  Validation loss is:  1.68376\n",
      "Validation accuracy is:  0.3584\n",
      "Epoch  1, CIFAR-10 Batch 4:  Validation loss is:  1.68205\n",
      "Validation accuracy is:  0.4098\n",
      "Epoch  1, CIFAR-10 Batch 5:  Validation loss is:  1.62423\n",
      "Validation accuracy is:  0.4366\n",
      "Epoch  2, CIFAR-10 Batch 1:  Validation loss is:  1.73681\n",
      "Validation accuracy is:  0.4544\n",
      "Epoch  2, CIFAR-10 Batch 2:  Validation loss is:  1.499\n",
      "Validation accuracy is:  0.4604\n",
      "Epoch  2, CIFAR-10 Batch 3:  Validation loss is:  1.24222\n",
      "Validation accuracy is:  0.4658\n",
      "Epoch  2, CIFAR-10 Batch 4:  Validation loss is:  1.38161\n",
      "Validation accuracy is:  0.4856\n",
      "Epoch  2, CIFAR-10 Batch 5:  Validation loss is:  1.44758\n",
      "Validation accuracy is:  0.502\n",
      "Epoch  3, CIFAR-10 Batch 1:  Validation loss is:  1.58597\n",
      "Validation accuracy is:  0.5068\n",
      "Epoch  3, CIFAR-10 Batch 2:  Validation loss is:  1.17678\n",
      "Validation accuracy is:  0.5016\n",
      "Epoch  3, CIFAR-10 Batch 3:  Validation loss is:  0.990038\n",
      "Validation accuracy is:  0.5162\n",
      "Epoch  3, CIFAR-10 Batch 4:  Validation loss is:  1.21671\n",
      "Validation accuracy is:  0.5402\n",
      "Epoch  3, CIFAR-10 Batch 5:  Validation loss is:  1.28926\n",
      "Validation accuracy is:  0.5592\n",
      "Epoch  4, CIFAR-10 Batch 1:  Validation loss is:  1.34062\n",
      "Validation accuracy is:  0.5542\n",
      "Epoch  4, CIFAR-10 Batch 2:  Validation loss is:  0.988786\n",
      "Validation accuracy is:  0.5552\n",
      "Epoch  4, CIFAR-10 Batch 3:  Validation loss is:  0.837353\n",
      "Validation accuracy is:  0.5342\n",
      "Epoch  4, CIFAR-10 Batch 4:  Validation loss is:  1.08622\n",
      "Validation accuracy is:  0.5692\n",
      "Epoch  4, CIFAR-10 Batch 5:  Validation loss is:  1.1711\n",
      "Validation accuracy is:  0.5818\n",
      "Epoch  5, CIFAR-10 Batch 1:  Validation loss is:  1.13868\n",
      "Validation accuracy is:  0.6002\n",
      "Epoch  5, CIFAR-10 Batch 2:  Validation loss is:  0.87215\n",
      "Validation accuracy is:  0.598\n",
      "Epoch  5, CIFAR-10 Batch 3:  Validation loss is:  0.754057\n",
      "Validation accuracy is:  0.5844\n",
      "Epoch  5, CIFAR-10 Batch 4:  Validation loss is:  0.938396\n",
      "Validation accuracy is:  0.6088\n",
      "Epoch  5, CIFAR-10 Batch 5:  Validation loss is:  1.06336\n",
      "Validation accuracy is:  0.6024\n",
      "Epoch  6, CIFAR-10 Batch 1:  Validation loss is:  0.987998\n",
      "Validation accuracy is:  0.6124\n",
      "Epoch  6, CIFAR-10 Batch 2:  Validation loss is:  0.778708\n",
      "Validation accuracy is:  0.611\n",
      "Epoch  6, CIFAR-10 Batch 3:  Validation loss is:  0.670511\n",
      "Validation accuracy is:  0.6238\n",
      "Epoch  6, CIFAR-10 Batch 4:  Validation loss is:  0.869445\n",
      "Validation accuracy is:  0.6186\n",
      "Epoch  6, CIFAR-10 Batch 5:  Validation loss is:  0.967474\n",
      "Validation accuracy is:  0.614\n",
      "Epoch  7, CIFAR-10 Batch 1:  Validation loss is:  0.885908\n",
      "Validation accuracy is:  0.6398\n",
      "Epoch  7, CIFAR-10 Batch 2:  Validation loss is:  0.720624\n",
      "Validation accuracy is:  0.6234\n",
      "Epoch  7, CIFAR-10 Batch 3:  Validation loss is:  0.610851\n",
      "Validation accuracy is:  0.6468\n",
      "Epoch  7, CIFAR-10 Batch 4:  Validation loss is:  0.714968\n",
      "Validation accuracy is:  0.6442\n",
      "Epoch  7, CIFAR-10 Batch 5:  Validation loss is:  0.839846\n",
      "Validation accuracy is:  0.653\n",
      "Epoch  8, CIFAR-10 Batch 1:  Validation loss is:  0.746108\n",
      "Validation accuracy is:  0.6584\n",
      "Epoch  8, CIFAR-10 Batch 2:  Validation loss is:  0.650228\n",
      "Validation accuracy is:  0.6516\n",
      "Epoch  8, CIFAR-10 Batch 3:  Validation loss is:  0.550467\n",
      "Validation accuracy is:  0.6672\n",
      "Epoch  8, CIFAR-10 Batch 4:  Validation loss is:  0.668493\n",
      "Validation accuracy is:  0.6666\n",
      "Epoch  8, CIFAR-10 Batch 5:  Validation loss is:  0.749922\n",
      "Validation accuracy is:  0.6706\n",
      "Epoch  9, CIFAR-10 Batch 1:  Validation loss is:  0.645398\n",
      "Validation accuracy is:  0.6642\n",
      "Epoch  9, CIFAR-10 Batch 2:  Validation loss is:  0.572448\n",
      "Validation accuracy is:  0.6564\n",
      "Epoch  9, CIFAR-10 Batch 3:  Validation loss is:  0.5265\n",
      "Validation accuracy is:  0.675\n",
      "Epoch  9, CIFAR-10 Batch 4:  Validation loss is:  0.569088\n",
      "Validation accuracy is:  0.6802\n",
      "Epoch  9, CIFAR-10 Batch 5:  Validation loss is:  0.633821\n",
      "Validation accuracy is:  0.6798\n",
      "Epoch 10, CIFAR-10 Batch 1:  Validation loss is:  0.616184\n",
      "Validation accuracy is:  0.6656\n",
      "Epoch 10, CIFAR-10 Batch 2:  Validation loss is:  0.526535\n",
      "Validation accuracy is:  0.6684\n",
      "Epoch 10, CIFAR-10 Batch 3:  Validation loss is:  0.446313\n",
      "Validation accuracy is:  0.6848\n",
      "Epoch 10, CIFAR-10 Batch 4:  Validation loss is:  0.532196\n",
      "Validation accuracy is:  0.6922\n",
      "Epoch 10, CIFAR-10 Batch 5:  Validation loss is:  0.59897\n",
      "Validation accuracy is:  0.693\n",
      "Epoch 11, CIFAR-10 Batch 1:  Validation loss is:  0.541347\n",
      "Validation accuracy is:  0.6956\n",
      "Epoch 11, CIFAR-10 Batch 2:  Validation loss is:  0.500597\n",
      "Validation accuracy is:  0.681\n",
      "Epoch 11, CIFAR-10 Batch 3:  Validation loss is:  0.405897\n",
      "Validation accuracy is:  0.6874\n",
      "Epoch 11, CIFAR-10 Batch 4:  Validation loss is:  0.483693\n",
      "Validation accuracy is:  0.6992\n",
      "Epoch 11, CIFAR-10 Batch 5:  Validation loss is:  0.564884\n",
      "Validation accuracy is:  0.6938\n",
      "Epoch 12, CIFAR-10 Batch 1:  Validation loss is:  0.539915\n",
      "Validation accuracy is:  0.6876\n",
      "Epoch 12, CIFAR-10 Batch 2:  Validation loss is:  0.413017\n",
      "Validation accuracy is:  0.702\n",
      "Epoch 12, CIFAR-10 Batch 3:  Validation loss is:  0.346799\n",
      "Validation accuracy is:  0.7092\n",
      "Epoch 12, CIFAR-10 Batch 4:  Validation loss is:  0.429968\n",
      "Validation accuracy is:  0.7084\n",
      "Epoch 12, CIFAR-10 Batch 5:  Validation loss is:  0.519363\n",
      "Validation accuracy is:  0.7098\n",
      "Epoch 13, CIFAR-10 Batch 1:  Validation loss is:  0.450481\n",
      "Validation accuracy is:  0.705\n",
      "Epoch 13, CIFAR-10 Batch 2:  Validation loss is:  0.389398\n",
      "Validation accuracy is:  0.7092\n",
      "Epoch 13, CIFAR-10 Batch 3:  Validation loss is:  0.322885\n",
      "Validation accuracy is:  0.7206\n",
      "Epoch 13, CIFAR-10 Batch 4:  Validation loss is:  0.419705\n",
      "Validation accuracy is:  0.7158\n",
      "Epoch 13, CIFAR-10 Batch 5:  Validation loss is:  0.401928\n",
      "Validation accuracy is:  0.7156\n",
      "Epoch 14, CIFAR-10 Batch 1:  Validation loss is:  0.385991\n",
      "Validation accuracy is:  0.7192\n",
      "Epoch 14, CIFAR-10 Batch 2:  Validation loss is:  0.349089\n",
      "Validation accuracy is:  0.7154\n",
      "Epoch 14, CIFAR-10 Batch 3:  Validation loss is:  0.310178\n",
      "Validation accuracy is:  0.7202\n",
      "Epoch 14, CIFAR-10 Batch 4:  Validation loss is:  0.315221\n",
      "Validation accuracy is:  0.7244\n",
      "Epoch 14, CIFAR-10 Batch 5:  Validation loss is:  0.437856\n",
      "Validation accuracy is:  0.7128\n",
      "Epoch 15, CIFAR-10 Batch 1:  Validation loss is:  0.354079\n",
      "Validation accuracy is:  0.722\n",
      "Epoch 15, CIFAR-10 Batch 2:  Validation loss is:  0.318074\n",
      "Validation accuracy is:  0.7252\n",
      "Epoch 15, CIFAR-10 Batch 3:  Validation loss is:  0.298922\n",
      "Validation accuracy is:  0.7262\n",
      "Epoch 15, CIFAR-10 Batch 4:  Validation loss is:  0.314198\n",
      "Validation accuracy is:  0.7278\n",
      "Epoch 15, CIFAR-10 Batch 5:  Validation loss is:  0.379293\n",
      "Validation accuracy is:  0.723\n",
      "Epoch 16, CIFAR-10 Batch 1:  Validation loss is:  0.317014\n",
      "Validation accuracy is:  0.7246\n",
      "Epoch 16, CIFAR-10 Batch 2:  Validation loss is:  0.268875\n",
      "Validation accuracy is:  0.733\n",
      "Epoch 16, CIFAR-10 Batch 3:  Validation loss is:  0.243734\n",
      "Validation accuracy is:  0.7406\n",
      "Epoch 16, CIFAR-10 Batch 4:  Validation loss is:  0.270087\n",
      "Validation accuracy is:  0.7432\n",
      "Epoch 16, CIFAR-10 Batch 5:  Validation loss is:  0.336864\n",
      "Validation accuracy is:  0.7138\n",
      "Epoch 17, CIFAR-10 Batch 1:  Validation loss is:  0.291472\n",
      "Validation accuracy is:  0.7334\n",
      "Epoch 17, CIFAR-10 Batch 2:  Validation loss is:  0.251204\n",
      "Validation accuracy is:  0.738\n",
      "Epoch 17, CIFAR-10 Batch 3:  Validation loss is:  0.215497\n",
      "Validation accuracy is:  0.749\n",
      "Epoch 17, CIFAR-10 Batch 4:  Validation loss is:  0.26186\n",
      "Validation accuracy is:  0.7294\n",
      "Epoch 17, CIFAR-10 Batch 5:  Validation loss is:  0.279731\n",
      "Validation accuracy is:  0.7378\n",
      "Epoch 18, CIFAR-10 Batch 1:  Validation loss is:  0.247074\n",
      "Validation accuracy is:  0.7384\n",
      "Epoch 18, CIFAR-10 Batch 2:  Validation loss is:  0.237601\n",
      "Validation accuracy is:  0.737\n",
      "Epoch 18, CIFAR-10 Batch 3:  Validation loss is:  0.218714\n",
      "Validation accuracy is:  0.7462\n",
      "Epoch 18, CIFAR-10 Batch 4:  Validation loss is:  0.269058\n",
      "Validation accuracy is:  0.7458\n",
      "Epoch 18, CIFAR-10 Batch 5:  Validation loss is:  0.27396\n",
      "Validation accuracy is:  0.739\n",
      "Epoch 19, CIFAR-10 Batch 1:  Validation loss is:  0.23504\n",
      "Validation accuracy is:  0.7408\n",
      "Epoch 19, CIFAR-10 Batch 2:  Validation loss is:  0.20591\n",
      "Validation accuracy is:  0.7434\n",
      "Epoch 19, CIFAR-10 Batch 3:  Validation loss is:  0.201604\n",
      "Validation accuracy is:  0.7482\n",
      "Epoch 19, CIFAR-10 Batch 4:  Validation loss is:  0.24012\n",
      "Validation accuracy is:  0.7514\n",
      "Epoch 19, CIFAR-10 Batch 5:  Validation loss is:  0.241842\n",
      "Validation accuracy is:  0.7432\n",
      "Epoch 20, CIFAR-10 Batch 1:  Validation loss is:  0.2236\n",
      "Validation accuracy is:  0.7432\n",
      "Epoch 20, CIFAR-10 Batch 2:  Validation loss is:  0.170687\n",
      "Validation accuracy is:  0.7416\n",
      "Epoch 20, CIFAR-10 Batch 3:  Validation loss is:  0.173088\n",
      "Validation accuracy is:  0.754\n",
      "Epoch 20, CIFAR-10 Batch 4:  Validation loss is:  0.220445\n",
      "Validation accuracy is:  0.7492\n",
      "Epoch 20, CIFAR-10 Batch 5:  Validation loss is:  0.226695\n",
      "Validation accuracy is:  0.7486\n",
      "Epoch 21, CIFAR-10 Batch 1:  Validation loss is:  0.190627\n",
      "Validation accuracy is:  0.7432\n",
      "Epoch 21, CIFAR-10 Batch 2:  Validation loss is:  0.196564\n",
      "Validation accuracy is:  0.7474\n",
      "Epoch 21, CIFAR-10 Batch 3:  Validation loss is:  0.142709\n",
      "Validation accuracy is:  0.7558\n",
      "Epoch 21, CIFAR-10 Batch 4:  Validation loss is:  0.189155\n",
      "Validation accuracy is:  0.7464\n",
      "Epoch 21, CIFAR-10 Batch 5:  Validation loss is:  0.217857\n",
      "Validation accuracy is:  0.7454\n",
      "Epoch 22, CIFAR-10 Batch 1:  Validation loss is:  0.205898\n",
      "Validation accuracy is:  0.75\n",
      "Epoch 22, CIFAR-10 Batch 2:  Validation loss is:  0.156184\n",
      "Validation accuracy is:  0.7528\n",
      "Epoch 22, CIFAR-10 Batch 3:  Validation loss is:  0.14181\n",
      "Validation accuracy is:  0.7516\n",
      "Epoch 22, CIFAR-10 Batch 4:  Validation loss is:  0.164315\n",
      "Validation accuracy is:  0.7568\n",
      "Epoch 22, CIFAR-10 Batch 5:  Validation loss is:  0.211822\n",
      "Validation accuracy is:  0.7502\n",
      "Epoch 23, CIFAR-10 Batch 1:  Validation loss is:  0.148686\n",
      "Validation accuracy is:  0.7612\n",
      "Epoch 23, CIFAR-10 Batch 2:  Validation loss is:  0.151069\n",
      "Validation accuracy is:  0.7484\n",
      "Epoch 23, CIFAR-10 Batch 3:  Validation loss is:  0.122236\n",
      "Validation accuracy is:  0.7522\n",
      "Epoch 23, CIFAR-10 Batch 4:  Validation loss is:  0.154229\n",
      "Validation accuracy is:  0.751\n",
      "Epoch 23, CIFAR-10 Batch 5:  Validation loss is:  0.182104\n",
      "Validation accuracy is:  0.7548\n",
      "Epoch 24, CIFAR-10 Batch 1:  Validation loss is:  0.134954\n",
      "Validation accuracy is:  0.7522\n",
      "Epoch 24, CIFAR-10 Batch 2:  Validation loss is:  0.12852\n",
      "Validation accuracy is:  0.7534\n",
      "Epoch 24, CIFAR-10 Batch 3:  Validation loss is:  0.109834\n",
      "Validation accuracy is:  0.759\n",
      "Epoch 24, CIFAR-10 Batch 4:  Validation loss is:  0.132112\n",
      "Validation accuracy is:  0.7644\n",
      "Epoch 24, CIFAR-10 Batch 5:  Validation loss is:  0.18171\n",
      "Validation accuracy is:  0.7622\n",
      "Epoch 25, CIFAR-10 Batch 1:  Validation loss is:  0.133526\n",
      "Validation accuracy is:  0.7638\n",
      "Epoch 25, CIFAR-10 Batch 2:  Validation loss is:  0.118087\n",
      "Validation accuracy is:  0.7568\n",
      "Epoch 25, CIFAR-10 Batch 3:  Validation loss is:  0.0955702\n",
      "Validation accuracy is:  0.7598\n",
      "Epoch 25, CIFAR-10 Batch 4:  Validation loss is:  0.114765\n",
      "Validation accuracy is:  0.7556\n",
      "Epoch 25, CIFAR-10 Batch 5:  Validation loss is:  0.157869\n",
      "Validation accuracy is:  0.7572\n",
      "Epoch 26, CIFAR-10 Batch 1:  Validation loss is:  0.157771\n",
      "Validation accuracy is:  0.7506\n",
      "Epoch 26, CIFAR-10 Batch 2:  Validation loss is:  0.102189\n",
      "Validation accuracy is:  0.7478\n",
      "Epoch 26, CIFAR-10 Batch 3:  Validation loss is:  0.104575\n",
      "Validation accuracy is:  0.7514\n",
      "Epoch 26, CIFAR-10 Batch 4:  Validation loss is:  0.138374\n",
      "Validation accuracy is:  0.7536\n",
      "Epoch 26, CIFAR-10 Batch 5:  Validation loss is:  0.155435\n",
      "Validation accuracy is:  0.7574\n",
      "Epoch 27, CIFAR-10 Batch 1:  Validation loss is:  0.124599\n",
      "Validation accuracy is:  0.7572\n",
      "Epoch 27, CIFAR-10 Batch 2:  Validation loss is:  0.0803778\n",
      "Validation accuracy is:  0.752\n",
      "Epoch 27, CIFAR-10 Batch 3:  Validation loss is:  0.0817556\n",
      "Validation accuracy is:  0.7478\n",
      "Epoch 27, CIFAR-10 Batch 4:  Validation loss is:  0.0978745\n",
      "Validation accuracy is:  0.762\n",
      "Epoch 27, CIFAR-10 Batch 5:  Validation loss is:  0.141472\n",
      "Validation accuracy is:  0.7608\n",
      "Epoch 28, CIFAR-10 Batch 1:  Validation loss is:  0.130216\n",
      "Validation accuracy is:  0.7608\n",
      "Epoch 28, CIFAR-10 Batch 2:  Validation loss is:  0.100529\n",
      "Validation accuracy is:  0.7552\n",
      "Epoch 28, CIFAR-10 Batch 3:  Validation loss is:  0.0957466\n",
      "Validation accuracy is:  0.7466\n",
      "Epoch 28, CIFAR-10 Batch 4:  Validation loss is:  0.0930236\n",
      "Validation accuracy is:  0.7522\n",
      "Epoch 28, CIFAR-10 Batch 5:  Validation loss is:  0.114603\n",
      "Validation accuracy is:  0.7512\n",
      "Epoch 29, CIFAR-10 Batch 1:  Validation loss is:  0.116882\n",
      "Validation accuracy is:  0.7676\n",
      "Epoch 29, CIFAR-10 Batch 2:  Validation loss is:  0.0968527\n",
      "Validation accuracy is:  0.754\n",
      "Epoch 29, CIFAR-10 Batch 3:  Validation loss is:  0.0923422\n",
      "Validation accuracy is:  0.7588\n",
      "Epoch 29, CIFAR-10 Batch 4:  Validation loss is:  0.104183\n",
      "Validation accuracy is:  0.759\n",
      "Epoch 29, CIFAR-10 Batch 5:  Validation loss is:  0.108898\n",
      "Validation accuracy is:  0.7652\n",
      "Epoch 30, CIFAR-10 Batch 1:  Validation loss is:  0.120496\n",
      "Validation accuracy is:  0.7652\n",
      "Epoch 30, CIFAR-10 Batch 2:  Validation loss is:  0.0754947\n",
      "Validation accuracy is:  0.7652\n",
      "Epoch 30, CIFAR-10 Batch 3:  Validation loss is:  0.105946\n",
      "Validation accuracy is:  0.7436\n",
      "Epoch 30, CIFAR-10 Batch 4:  Validation loss is:  0.0947939\n",
      "Validation accuracy is:  0.7534\n",
      "Epoch 30, CIFAR-10 Batch 5:  Validation loss is:  0.109052\n",
      "Validation accuracy is:  0.7654\n",
      "Epoch 31, CIFAR-10 Batch 1:  Validation loss is:  0.124409\n",
      "Validation accuracy is:  0.7616\n",
      "Epoch 31, CIFAR-10 Batch 2:  Validation loss is:  0.0523755\n",
      "Validation accuracy is:  0.7654\n",
      "Epoch 31, CIFAR-10 Batch 3:  Validation loss is:  0.0570913\n",
      "Validation accuracy is:  0.7618\n",
      "Epoch 31, CIFAR-10 Batch 4:  Validation loss is:  0.121099\n",
      "Validation accuracy is:  0.7492\n",
      "Epoch 31, CIFAR-10 Batch 5:  Validation loss is:  0.0863033\n",
      "Validation accuracy is:  0.765\n",
      "Epoch 32, CIFAR-10 Batch 1:  Validation loss is:  0.0988539\n",
      "Validation accuracy is:  0.7664\n",
      "Epoch 32, CIFAR-10 Batch 2:  Validation loss is:  0.055466\n",
      "Validation accuracy is:  0.7664\n",
      "Epoch 32, CIFAR-10 Batch 3:  Validation loss is:  0.0589985\n",
      "Validation accuracy is:  0.764\n",
      "Epoch 32, CIFAR-10 Batch 4:  Validation loss is:  0.0748805\n",
      "Validation accuracy is:  0.7674\n",
      "Epoch 32, CIFAR-10 Batch 5:  Validation loss is:  0.0744784\n",
      "Validation accuracy is:  0.7688\n",
      "Epoch 33, CIFAR-10 Batch 1:  Validation loss is:  0.0800097\n",
      "Validation accuracy is:  0.7664\n",
      "Epoch 33, CIFAR-10 Batch 2:  Validation loss is:  0.0574105\n",
      "Validation accuracy is:  0.7672\n",
      "Epoch 33, CIFAR-10 Batch 3:  Validation loss is:  0.0642102\n",
      "Validation accuracy is:  0.7474\n",
      "Epoch 33, CIFAR-10 Batch 4:  Validation loss is:  0.076823\n",
      "Validation accuracy is:  0.758\n",
      "Epoch 33, CIFAR-10 Batch 5:  Validation loss is:  0.0737861\n",
      "Validation accuracy is:  0.7708\n",
      "Epoch 34, CIFAR-10 Batch 1:  Validation loss is:  0.081079\n",
      "Validation accuracy is:  0.7718\n",
      "Epoch 34, CIFAR-10 Batch 2:  Validation loss is:  0.0569363\n",
      "Validation accuracy is:  0.7624\n",
      "Epoch 34, CIFAR-10 Batch 3:  Validation loss is:  0.0636095\n",
      "Validation accuracy is:  0.7542\n",
      "Epoch 34, CIFAR-10 Batch 4:  Validation loss is:  0.0616315\n",
      "Validation accuracy is:  0.7714\n",
      "Epoch 34, CIFAR-10 Batch 5:  Validation loss is:  0.0809815\n",
      "Validation accuracy is:  0.7754\n",
      "Epoch 35, CIFAR-10 Batch 1:  Validation loss is:  0.0935158\n",
      "Validation accuracy is:  0.7566\n",
      "Epoch 35, CIFAR-10 Batch 2:  Validation loss is:  0.0447041\n",
      "Validation accuracy is:  0.7568\n",
      "Epoch 35, CIFAR-10 Batch 3:  Validation loss is:  0.0482438\n",
      "Validation accuracy is:  0.7658\n",
      "Epoch 35, CIFAR-10 Batch 4:  Validation loss is:  0.102097\n",
      "Validation accuracy is:  0.7538\n",
      "Epoch 35, CIFAR-10 Batch 5:  Validation loss is:  0.0746299\n",
      "Validation accuracy is:  0.7592\n",
      "Epoch 36, CIFAR-10 Batch 1:  Validation loss is:  0.106098\n",
      "Validation accuracy is:  0.7608\n",
      "Epoch 36, CIFAR-10 Batch 2:  Validation loss is:  0.0634489\n",
      "Validation accuracy is:  0.7622\n",
      "Epoch 36, CIFAR-10 Batch 3:  Validation loss is:  0.0480837\n",
      "Validation accuracy is:  0.7382\n",
      "Epoch 36, CIFAR-10 Batch 4:  Validation loss is:  0.0597094\n",
      "Validation accuracy is:  0.7676\n",
      "Epoch 36, CIFAR-10 Batch 5:  Validation loss is:  0.076021\n",
      "Validation accuracy is:  0.7616\n",
      "Epoch 37, CIFAR-10 Batch 1:  Validation loss is:  0.074839\n",
      "Validation accuracy is:  0.7626\n",
      "Epoch 37, CIFAR-10 Batch 2:  Validation loss is:  0.045293\n",
      "Validation accuracy is:  0.7674\n",
      "Epoch 37, CIFAR-10 Batch 3:  Validation loss is:  0.0480241\n",
      "Validation accuracy is:  0.7558\n",
      "Epoch 37, CIFAR-10 Batch 4:  Validation loss is:  0.0618689\n",
      "Validation accuracy is:  0.7566\n",
      "Epoch 37, CIFAR-10 Batch 5:  Validation loss is:  0.0637856\n",
      "Validation accuracy is:  0.7652\n",
      "Epoch 38, CIFAR-10 Batch 1:  Validation loss is:  0.0689353\n",
      "Validation accuracy is:  0.7626\n",
      "Epoch 38, CIFAR-10 Batch 2:  Validation loss is:  0.0391944\n",
      "Validation accuracy is:  0.7566\n",
      "Epoch 38, CIFAR-10 Batch 3:  Validation loss is:  0.0303337\n",
      "Validation accuracy is:  0.7616\n",
      "Epoch 38, CIFAR-10 Batch 4:  Validation loss is:  0.0820698\n",
      "Validation accuracy is:  0.7464\n",
      "Epoch 38, CIFAR-10 Batch 5:  Validation loss is:  0.055091\n",
      "Validation accuracy is:  0.7664\n",
      "Epoch 39, CIFAR-10 Batch 1:  Validation loss is:  0.0608291\n",
      "Validation accuracy is:  0.7582\n",
      "Epoch 39, CIFAR-10 Batch 2:  Validation loss is:  0.035124\n",
      "Validation accuracy is:  0.7582\n",
      "Epoch 39, CIFAR-10 Batch 3:  Validation loss is:  0.0309675\n",
      "Validation accuracy is:  0.7704\n",
      "Epoch 39, CIFAR-10 Batch 4:  Validation loss is:  0.0448731\n",
      "Validation accuracy is:  0.7544\n",
      "Epoch 39, CIFAR-10 Batch 5:  Validation loss is:  0.0628401\n",
      "Validation accuracy is:  0.7622\n",
      "Epoch 40, CIFAR-10 Batch 1:  Validation loss is:  0.0618959\n",
      "Validation accuracy is:  0.7552\n",
      "Epoch 40, CIFAR-10 Batch 2:  Validation loss is:  0.0417185\n",
      "Validation accuracy is:  0.7594\n",
      "Epoch 40, CIFAR-10 Batch 3:  Validation loss is:  0.0296478\n",
      "Validation accuracy is:  0.7632\n",
      "Epoch 40, CIFAR-10 Batch 4:  Validation loss is:  0.0409854\n",
      "Validation accuracy is:  0.7656\n",
      "Epoch 40, CIFAR-10 Batch 5:  Validation loss is:  0.0459988\n",
      "Validation accuracy is:  0.7684\n",
      "Epoch 41, CIFAR-10 Batch 1:  Validation loss is:  0.0368282\n",
      "Validation accuracy is:  0.7708\n",
      "Epoch 41, CIFAR-10 Batch 2:  Validation loss is:  0.0300262\n",
      "Validation accuracy is:  0.753\n",
      "Epoch 41, CIFAR-10 Batch 3:  Validation loss is:  0.038188\n",
      "Validation accuracy is:  0.7664\n",
      "Epoch 41, CIFAR-10 Batch 4:  Validation loss is:  0.0517634\n",
      "Validation accuracy is:  0.7642\n",
      "Epoch 41, CIFAR-10 Batch 5:  Validation loss is:  0.0404703\n",
      "Validation accuracy is:  0.7622\n",
      "Epoch 42, CIFAR-10 Batch 1:  Validation loss is:  0.0443809\n",
      "Validation accuracy is:  0.753\n",
      "Epoch 42, CIFAR-10 Batch 2:  Validation loss is:  0.0375609\n",
      "Validation accuracy is:  0.768\n",
      "Epoch 42, CIFAR-10 Batch 3:  Validation loss is:  0.0407259\n",
      "Validation accuracy is:  0.7576\n",
      "Epoch 42, CIFAR-10 Batch 4:  Validation loss is:  0.0468815\n",
      "Validation accuracy is:  0.754\n",
      "Epoch 42, CIFAR-10 Batch 5:  Validation loss is:  0.0474753\n",
      "Validation accuracy is:  0.7546\n",
      "Epoch 43, CIFAR-10 Batch 1:  Validation loss is:  0.0323027\n",
      "Validation accuracy is:  0.7606\n",
      "Epoch 43, CIFAR-10 Batch 2:  Validation loss is:  0.030729\n",
      "Validation accuracy is:  0.7682\n",
      "Epoch 43, CIFAR-10 Batch 3:  Validation loss is:  0.037138\n",
      "Validation accuracy is:  0.7602\n",
      "Epoch 43, CIFAR-10 Batch 4:  Validation loss is:  0.0601358\n",
      "Validation accuracy is:  0.7552\n",
      "Epoch 43, CIFAR-10 Batch 5:  Validation loss is:  0.040158\n",
      "Validation accuracy is:  0.76\n",
      "Epoch 44, CIFAR-10 Batch 1:  Validation loss is:  0.0419759\n",
      "Validation accuracy is:  0.7594\n",
      "Epoch 44, CIFAR-10 Batch 2:  Validation loss is:  0.0372458\n",
      "Validation accuracy is:  0.7408\n",
      "Epoch 44, CIFAR-10 Batch 3:  Validation loss is:  0.0228125\n",
      "Validation accuracy is:  0.7552\n",
      "Epoch 44, CIFAR-10 Batch 4:  Validation loss is:  0.0587759\n",
      "Validation accuracy is:  0.7594\n",
      "Epoch 44, CIFAR-10 Batch 5:  Validation loss is:  0.051357\n",
      "Validation accuracy is:  0.7674\n",
      "Epoch 45, CIFAR-10 Batch 1:  Validation loss is:  0.0408028\n",
      "Validation accuracy is:  0.755\n",
      "Epoch 45, CIFAR-10 Batch 2:  Validation loss is:  0.0294476\n",
      "Validation accuracy is:  0.7592\n",
      "Epoch 45, CIFAR-10 Batch 3:  Validation loss is:  0.0231687\n",
      "Validation accuracy is:  0.7616\n",
      "Epoch 45, CIFAR-10 Batch 4:  Validation loss is:  0.0628261\n",
      "Validation accuracy is:  0.7656\n",
      "Epoch 45, CIFAR-10 Batch 5:  Validation loss is:  0.04214\n",
      "Validation accuracy is:  0.77\n",
      "Epoch 46, CIFAR-10 Batch 1:  Validation loss is:  0.0350557\n",
      "Validation accuracy is:  0.7684\n",
      "Epoch 46, CIFAR-10 Batch 2:  Validation loss is:  0.0239212\n",
      "Validation accuracy is:  0.7654\n",
      "Epoch 46, CIFAR-10 Batch 3:  Validation loss is:  0.0202099\n",
      "Validation accuracy is:  0.7644\n",
      "Epoch 46, CIFAR-10 Batch 4:  Validation loss is:  0.0441343\n",
      "Validation accuracy is:  0.762\n",
      "Epoch 46, CIFAR-10 Batch 5:  Validation loss is:  0.0328572\n",
      "Validation accuracy is:  0.7724\n",
      "Epoch 47, CIFAR-10 Batch 1:  Validation loss is:  0.0362287\n",
      "Validation accuracy is:  0.7672\n",
      "Epoch 47, CIFAR-10 Batch 2:  Validation loss is:  0.0300772\n",
      "Validation accuracy is:  0.7342\n",
      "Epoch 47, CIFAR-10 Batch 3:  Validation loss is:  0.0237814\n",
      "Validation accuracy is:  0.7452\n",
      "Epoch 47, CIFAR-10 Batch 4:  Validation loss is:  0.0234256\n",
      "Validation accuracy is:  0.7722\n",
      "Epoch 47, CIFAR-10 Batch 5:  Validation loss is:  0.0386276\n",
      "Validation accuracy is:  0.7718\n",
      "Epoch 48, CIFAR-10 Batch 1:  Validation loss is:  0.038288\n",
      "Validation accuracy is:  0.7642\n",
      "Epoch 48, CIFAR-10 Batch 2:  Validation loss is:  0.0312479\n",
      "Validation accuracy is:  0.7608\n",
      "Epoch 48, CIFAR-10 Batch 3:  Validation loss is:  0.0321433\n",
      "Validation accuracy is:  0.7586\n",
      "Epoch 48, CIFAR-10 Batch 4:  Validation loss is:  0.0410499\n",
      "Validation accuracy is:  0.7616\n",
      "Epoch 48, CIFAR-10 Batch 5:  Validation loss is:  0.0523908\n",
      "Validation accuracy is:  0.7658\n",
      "Epoch 49, CIFAR-10 Batch 1:  Validation loss is:  0.021526\n",
      "Validation accuracy is:  0.7734\n",
      "Epoch 49, CIFAR-10 Batch 2:  Validation loss is:  0.0221847\n",
      "Validation accuracy is:  0.7556\n",
      "Epoch 49, CIFAR-10 Batch 3:  Validation loss is:  0.013578\n",
      "Validation accuracy is:  0.7638\n",
      "Epoch 49, CIFAR-10 Batch 4:  Validation loss is:  0.0430452\n",
      "Validation accuracy is:  0.7578\n",
      "Epoch 49, CIFAR-10 Batch 5:  Validation loss is:  0.0271725\n",
      "Validation accuracy is:  0.7734\n",
      "Epoch 50, CIFAR-10 Batch 1:  Validation loss is:  0.029257\n",
      "Validation accuracy is:  0.7592\n",
      "Epoch 50, CIFAR-10 Batch 2:  Validation loss is:  0.0177872\n",
      "Validation accuracy is:  0.7596\n",
      "Epoch 50, CIFAR-10 Batch 3:  Validation loss is:  0.0155781\n",
      "Validation accuracy is:  0.7432\n",
      "Epoch 50, CIFAR-10 Batch 4:  Validation loss is:  0.0313381\n",
      "Validation accuracy is:  0.7678\n",
      "Epoch 50, CIFAR-10 Batch 5:  Validation loss is:  0.0310851\n",
      "Validation accuracy is:  0.7598\n"
     ]
    }
   ],
   "source": [
    "\"\"\"\n",
    "DON'T MODIFY ANYTHING IN THIS CELL\n",
    "\"\"\"\n",
    "save_model_path = './image_classification'\n",
    "\n",
    "print('Training...')\n",
    "with tf.Session() as sess:\n",
    "    # Initializing the variables\n",
    "    sess.run(tf.global_variables_initializer())\n",
    "    \n",
    "    # Training cycle\n",
    "    for epoch in range(epochs):\n",
    "        # Loop over all batches\n",
    "        n_batches = 5\n",
    "        for batch_i in range(1, n_batches + 1):\n",
    "            for batch_features, batch_labels in helper.load_preprocess_training_batch(batch_i, batch_size):\n",
    "                train_neural_network(sess, optimizer, keep_probability, batch_features, batch_labels)\n",
    "            print('Epoch {:>2}, CIFAR-10 Batch {}:  '.format(epoch + 1, batch_i), end='')\n",
    "            print_stats(sess, batch_features, batch_labels, cost, accuracy)\n",
    "            \n",
    "    # Save Model\n",
    "    saver = tf.train.Saver()\n",
    "    save_path = saver.save(sess, save_model_path)"
   ]
  },
  {
   "cell_type": "markdown",
   "metadata": {
    "deletable": true,
    "editable": true
   },
   "source": [
    "# Checkpoint\n",
    "The model has been saved to disk.\n",
    "## Test Model\n",
    "Test your model against the test dataset.  This will be your final accuracy. You should have an accuracy greater than 50%. If you don't, keep tweaking the model architecture and parameters."
   ]
  },
  {
   "cell_type": "code",
   "execution_count": 27,
   "metadata": {
    "collapsed": false,
    "deletable": true,
    "editable": true
   },
   "outputs": [
    {
     "name": "stdout",
     "output_type": "stream",
     "text": [
      "Testing Accuracy: 0.74619140625\n",
      "\n"
     ]
    },
    {
     "data": {
      "image/png": "[encoded data removed]",
      "text/plain": [
       "<matplotlib.figure.Figure at 0x7f7f919e3ef0>"
      ]
     },
     "metadata": {
      "image/png": {
       "height": 319,
       "width": 355
      }
     },
     "output_type": "display_data"
    }
   ],
   "source": [
    "\"\"\"\n",
    "DON'T MODIFY ANYTHING IN THIS CELL\n",
    "\"\"\"\n",
    "%matplotlib inline\n",
    "%config InlineBackend.figure_format = 'retina'\n",
    "\n",
    "import tensorflow as tf\n",
    "import pickle\n",
    "import helper\n",
    "import random\n",
    "\n",
    "# Set batch size if not already set\n",
    "try:\n",
    "    if batch_size:\n",
    "        pass\n",
    "except NameError:\n",
    "    batch_size = 64\n",
    "\n",
    "save_model_path = './image_classification'\n",
    "n_samples = 4\n",
    "top_n_predictions = 3\n",
    "\n",
    "def test_model():\n",
    "    \"\"\"\n",
    "    Test the saved model against the test dataset\n",
    "    \"\"\"\n",
    "\n",
    "    test_features, test_labels = pickle.load(open('preprocess_training.p', mode='rb'))\n",
    "    loaded_graph = tf.Graph()\n",
    "\n",
    "    with tf.Session(graph=loaded_graph) as sess:\n",
    "        # Load model\n",
    "        loader = tf.train.import_meta_graph(save_model_path + '.meta')\n",
    "        loader.restore(sess, save_model_path)\n",
    "\n",
    "        # Get Tensors from loaded model\n",
    "        loaded_x = loaded_graph.get_tensor_by_name('x:0')\n",
    "        loaded_y = loaded_graph.get_tensor_by_name('y:0')\n",
    "        loaded_keep_prob = loaded_graph.get_tensor_by_name('keep_prob:0')\n",
    "        loaded_logits = loaded_graph.get_tensor_by_name('logits:0')\n",
    "        loaded_acc = loaded_graph.get_tensor_by_name('accuracy:0')\n",
    "        \n",
    "        # Get accuracy in batches for memory limitations\n",
    "        test_batch_acc_total = 0\n",
    "        test_batch_count = 0\n",
    "        \n",
    "        for train_feature_batch, train_label_batch in helper.batch_features_labels(test_features, test_labels, batch_size):\n",
    "            test_batch_acc_total += sess.run(\n",
    "                loaded_acc,\n",
    "                feed_dict={loaded_x: train_feature_batch, loaded_y: train_label_batch, loaded_keep_prob: 1.0})\n",
    "            test_batch_count += 1\n",
    "\n",
    "        print('Testing Accuracy: {}\\n'.format(test_batch_acc_total/test_batch_count))\n",
    "\n",
    "        # Print Random Samples\n",
    "        random_test_features, random_test_labels = tuple(zip(*random.sample(list(zip(test_features, test_labels)), n_samples)))\n",
    "        random_test_predictions = sess.run(\n",
    "            tf.nn.top_k(tf.nn.softmax(loaded_logits), top_n_predictions),\n",
    "            feed_dict={loaded_x: random_test_features, loaded_y: random_test_labels, loaded_keep_prob: 1.0})\n",
    "        helper.display_image_predictions(random_test_features, random_test_labels, random_test_predictions)\n",
    "\n",
    "\n",
    "test_model()"
   ]
  },
  {
   "cell_type": "markdown",
   "metadata": {
    "deletable": true,
    "editable": true
   },
   "source": [
    "## Why 50-70% Accuracy?\n",
    "You might be wondering why you can't get an accuracy any higher. First things first, 50% isn't bad for a simple CNN.  Pure guessing would get you 10% accuracy. However, you might notice people are getting scores [well above 70%](http://rodrigob.github.io/are_we_there_yet/build/classification_datasets_results.html#43494641522d3130).  That's because we haven't taught you all there is to know about neural networks. We still need to cover a few more techniques.\n",
    "## Submitting This Project\n",
    "When submitting this project, make sure to run all the cells before saving the notebook.  Save the notebook file as \"dlnd_image_classification.ipynb\" and save it as a HTML file under \"File\" -> \"Download as\".  Include the \"helper.py\" and \"problem_unittests.py\" files in your submission."
   ]
  }
 ],
 "metadata": {
  "kernelspec": {
   "display_name": "Python 3",
   "language": "python",
   "name": "python3"
  },
  "language_info": {
   "codemirror_mode": {
    "name": "ipython",
    "version": 3
   },
   "file_extension": ".py",
   "mimetype": "text/x-python",
   "name": "python",
   "nbconvert_exporter": "python",
   "pygments_lexer": "ipython3",
   "version": "3.5.2"
  },
  "widgets": {
   "state": {},
   "version": "1.1.2"
  }
 },
 "nbformat": 4,
 "nbformat_minor": 0
}
